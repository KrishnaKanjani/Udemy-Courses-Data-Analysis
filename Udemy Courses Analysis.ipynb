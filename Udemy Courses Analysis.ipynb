{
 "cells": [
  {
   "cell_type": "code",
   "execution_count": 1,
   "id": "070a79f5",
   "metadata": {},
   "outputs": [],
   "source": [
    "import pandas as pd\n",
    "import matplotlib.pyplot as plt\n",
    "import seaborn as sns"
   ]
  },
  {
   "cell_type": "code",
   "execution_count": 2,
   "id": "a66871f2",
   "metadata": {},
   "outputs": [],
   "source": [
    "# Loading the dataset\n",
    "data = pd.read_csv(\"Udemy Courses dataset.csv\")"
   ]
  },
  {
   "cell_type": "code",
   "execution_count": 3,
   "id": "48cf5e04",
   "metadata": {},
   "outputs": [
    {
     "data": {
      "text/html": [
       "<div>\n",
       "<style scoped>\n",
       "    .dataframe tbody tr th:only-of-type {\n",
       "        vertical-align: middle;\n",
       "    }\n",
       "\n",
       "    .dataframe tbody tr th {\n",
       "        vertical-align: top;\n",
       "    }\n",
       "\n",
       "    .dataframe thead th {\n",
       "        text-align: right;\n",
       "    }\n",
       "</style>\n",
       "<table border=\"1\" class=\"dataframe\">\n",
       "  <thead>\n",
       "    <tr style=\"text-align: right;\">\n",
       "      <th></th>\n",
       "      <th>course_id</th>\n",
       "      <th>course_title</th>\n",
       "      <th>is_paid</th>\n",
       "      <th>price</th>\n",
       "      <th>num_subscribers</th>\n",
       "      <th>num_reviews</th>\n",
       "      <th>num_lectures</th>\n",
       "      <th>level</th>\n",
       "      <th>content_duration</th>\n",
       "      <th>published_timestamp</th>\n",
       "      <th>subject</th>\n",
       "    </tr>\n",
       "  </thead>\n",
       "  <tbody>\n",
       "    <tr>\n",
       "      <th>0</th>\n",
       "      <td>288942</td>\n",
       "      <td>#1 Piano Hand Coordination: Play 10th Ballad i...</td>\n",
       "      <td>True</td>\n",
       "      <td>35</td>\n",
       "      <td>3137</td>\n",
       "      <td>18</td>\n",
       "      <td>68</td>\n",
       "      <td>All Levels</td>\n",
       "      <td>1.5</td>\n",
       "      <td>2014-09-18T05:07:05Z</td>\n",
       "      <td>Musical Instruments</td>\n",
       "    </tr>\n",
       "    <tr>\n",
       "      <th>1</th>\n",
       "      <td>1170074</td>\n",
       "      <td>#10 Hand Coordination - Transfer Chord Ballad ...</td>\n",
       "      <td>True</td>\n",
       "      <td>75</td>\n",
       "      <td>1593</td>\n",
       "      <td>1</td>\n",
       "      <td>41</td>\n",
       "      <td>Intermediate Level</td>\n",
       "      <td>1</td>\n",
       "      <td>2017-04-12T19:06:34Z</td>\n",
       "      <td>Musical Instruments</td>\n",
       "    </tr>\n",
       "    <tr>\n",
       "      <th>2</th>\n",
       "      <td>1193886</td>\n",
       "      <td>#12 Hand Coordination: Let your Hands dance wi...</td>\n",
       "      <td>True</td>\n",
       "      <td>75</td>\n",
       "      <td>482</td>\n",
       "      <td>1</td>\n",
       "      <td>47</td>\n",
       "      <td>Intermediate Level</td>\n",
       "      <td>1.5</td>\n",
       "      <td>2017-04-26T18:34:57Z</td>\n",
       "      <td>Musical Instruments</td>\n",
       "    </tr>\n",
       "    <tr>\n",
       "      <th>3</th>\n",
       "      <td>1116700</td>\n",
       "      <td>#4 Piano Hand Coordination: Fun Piano Runs in ...</td>\n",
       "      <td>True</td>\n",
       "      <td>75</td>\n",
       "      <td>850</td>\n",
       "      <td>3</td>\n",
       "      <td>43</td>\n",
       "      <td>Intermediate Level</td>\n",
       "      <td>1</td>\n",
       "      <td>2017-02-21T23:48:18Z</td>\n",
       "      <td>Musical Instruments</td>\n",
       "    </tr>\n",
       "    <tr>\n",
       "      <th>4</th>\n",
       "      <td>1120410</td>\n",
       "      <td>#5  Piano Hand Coordination:  Piano Runs in 2 ...</td>\n",
       "      <td>True</td>\n",
       "      <td>75</td>\n",
       "      <td>940</td>\n",
       "      <td>3</td>\n",
       "      <td>32</td>\n",
       "      <td>Intermediate Level</td>\n",
       "      <td>37 mins</td>\n",
       "      <td>2017-02-21T23:44:49Z</td>\n",
       "      <td>Musical Instruments</td>\n",
       "    </tr>\n",
       "  </tbody>\n",
       "</table>\n",
       "</div>"
      ],
      "text/plain": [
       "   course_id                                       course_title  is_paid  \\\n",
       "0     288942  #1 Piano Hand Coordination: Play 10th Ballad i...     True   \n",
       "1    1170074  #10 Hand Coordination - Transfer Chord Ballad ...     True   \n",
       "2    1193886  #12 Hand Coordination: Let your Hands dance wi...     True   \n",
       "3    1116700  #4 Piano Hand Coordination: Fun Piano Runs in ...     True   \n",
       "4    1120410  #5  Piano Hand Coordination:  Piano Runs in 2 ...     True   \n",
       "\n",
       "  price  num_subscribers  num_reviews  num_lectures               level  \\\n",
       "0    35             3137           18            68          All Levels   \n",
       "1    75             1593            1            41  Intermediate Level   \n",
       "2    75              482            1            47  Intermediate Level   \n",
       "3    75              850            3            43  Intermediate Level   \n",
       "4    75              940            3            32  Intermediate Level   \n",
       "\n",
       "  content_duration   published_timestamp              subject  \n",
       "0            1.5    2014-09-18T05:07:05Z  Musical Instruments  \n",
       "1               1   2017-04-12T19:06:34Z  Musical Instruments  \n",
       "2            1.5    2017-04-26T18:34:57Z  Musical Instruments  \n",
       "3               1   2017-02-21T23:48:18Z  Musical Instruments  \n",
       "4          37 mins  2017-02-21T23:44:49Z  Musical Instruments  "
      ]
     },
     "execution_count": 3,
     "metadata": {},
     "output_type": "execute_result"
    }
   ],
   "source": [
    "data.head()"
   ]
  },
  {
   "cell_type": "markdown",
   "id": "57101a54",
   "metadata": {},
   "source": [
    "# 1. Total number of courses"
   ]
  },
  {
   "cell_type": "code",
   "execution_count": 4,
   "id": "5947d276",
   "metadata": {},
   "outputs": [
    {
     "data": {
      "text/plain": [
       "3682"
      ]
     },
     "execution_count": 4,
     "metadata": {},
     "output_type": "execute_result"
    }
   ],
   "source": [
    "total_courses = len(data)\n",
    "total_courses"
   ]
  },
  {
   "cell_type": "markdown",
   "id": "7b6d84fd",
   "metadata": {},
   "source": [
    "# 2. Count of paid and free courses"
   ]
  },
  {
   "cell_type": "code",
   "execution_count": 5,
   "id": "8484765a",
   "metadata": {},
   "outputs": [
    {
     "name": "stdout",
     "output_type": "stream",
     "text": [
      "Paid Courses: 3372\n",
      "Free Courses: 310\n"
     ]
    }
   ],
   "source": [
    "paid = len(data[data['is_paid'] == True])\n",
    "free = len(data[data['is_paid'] == False])\n",
    "print('Paid Courses:', paid)\n",
    "print('Free Courses:', free)"
   ]
  },
  {
   "cell_type": "markdown",
   "id": "50b1d76a",
   "metadata": {},
   "source": [
    "# 3. Average price of paid courses"
   ]
  },
  {
   "cell_type": "code",
   "execution_count": 6,
   "id": "410b81fe",
   "metadata": {},
   "outputs": [
    {
     "data": {
      "text/plain": [
       "inf"
      ]
     },
     "execution_count": 6,
     "metadata": {},
     "output_type": "execute_result"
    }
   ],
   "source": [
    "avg_paid = data[data['is_paid'] == True]['price']\n",
    "avg_paid.mean()\n"
   ]
  },
  {
   "cell_type": "markdown",
   "id": "3f92a0ba",
   "metadata": {},
   "source": [
    "# 4. Course with highest number of subscibers"
   ]
  },
  {
   "cell_type": "code",
   "execution_count": 7,
   "id": "d7d80996",
   "metadata": {},
   "outputs": [
    {
     "data": {
      "text/html": [
       "<div>\n",
       "<style scoped>\n",
       "    .dataframe tbody tr th:only-of-type {\n",
       "        vertical-align: middle;\n",
       "    }\n",
       "\n",
       "    .dataframe tbody tr th {\n",
       "        vertical-align: top;\n",
       "    }\n",
       "\n",
       "    .dataframe thead th {\n",
       "        text-align: right;\n",
       "    }\n",
       "</style>\n",
       "<table border=\"1\" class=\"dataframe\">\n",
       "  <thead>\n",
       "    <tr style=\"text-align: right;\">\n",
       "      <th></th>\n",
       "      <th>course_id</th>\n",
       "      <th>course_title</th>\n",
       "      <th>is_paid</th>\n",
       "      <th>price</th>\n",
       "      <th>num_subscribers</th>\n",
       "      <th>num_reviews</th>\n",
       "      <th>num_lectures</th>\n",
       "      <th>level</th>\n",
       "      <th>content_duration</th>\n",
       "      <th>published_timestamp</th>\n",
       "      <th>subject</th>\n",
       "    </tr>\n",
       "  </thead>\n",
       "  <tbody>\n",
       "    <tr>\n",
       "      <th>2230</th>\n",
       "      <td>41295</td>\n",
       "      <td>Learn HTML5 Programming From Scratch</td>\n",
       "      <td>False</td>\n",
       "      <td>Free</td>\n",
       "      <td>268923</td>\n",
       "      <td>8629</td>\n",
       "      <td>45</td>\n",
       "      <td>All Levels</td>\n",
       "      <td>10.5</td>\n",
       "      <td>2013-02-14T07:03:41Z</td>\n",
       "      <td>Web Development</td>\n",
       "    </tr>\n",
       "  </tbody>\n",
       "</table>\n",
       "</div>"
      ],
      "text/plain": [
       "      course_id                          course_title  is_paid price  \\\n",
       "2230      41295  Learn HTML5 Programming From Scratch    False  Free   \n",
       "\n",
       "      num_subscribers  num_reviews  num_lectures       level content_duration  \\\n",
       "2230           268923         8629            45  All Levels           10.5     \n",
       "\n",
       "       published_timestamp          subject  \n",
       "2230  2013-02-14T07:03:41Z  Web Development  "
      ]
     },
     "execution_count": 7,
     "metadata": {},
     "output_type": "execute_result"
    }
   ],
   "source": [
    "high_sub = data[data['num_subscribers'] == data['num_subscribers'].max()]\n",
    "high_sub\n",
    "# print(\"Course with highest Subscribers:\",high_sub['course_title'])"
   ]
  },
  {
   "cell_type": "markdown",
   "id": "f4aae47a",
   "metadata": {},
   "source": [
    "# 5. Average number of reviews for all courses"
   ]
  },
  {
   "cell_type": "code",
   "execution_count": 8,
   "id": "d7f459ff",
   "metadata": {},
   "outputs": [
    {
     "name": "stdout",
     "output_type": "stream",
     "text": [
      "Average Number of Subscribers: 156.09\n"
     ]
    }
   ],
   "source": [
    "avg_reviews = data['num_reviews'].mean().round(2)\n",
    "print(\"Average Number of Subscribers:\",avg_reviews)"
   ]
  },
  {
   "cell_type": "markdown",
   "id": "3b936cf0",
   "metadata": {},
   "source": [
    "# 6. How many lectures, on average, do the courses have?"
   ]
  },
  {
   "cell_type": "code",
   "execution_count": 9,
   "id": "617cb64c",
   "metadata": {},
   "outputs": [
    {
     "data": {
      "text/plain": [
       "40.07"
      ]
     },
     "execution_count": 9,
     "metadata": {},
     "output_type": "execute_result"
    }
   ],
   "source": [
    "avg_lect = data['num_lectures'].mean().round(2)\n",
    "avg_lect"
   ]
  },
  {
   "cell_type": "markdown",
   "id": "10ac5c1a",
   "metadata": {},
   "source": [
    "# 7. What is the distribution of courses based on the difficulty level (level column)?"
   ]
  },
  {
   "cell_type": "code",
   "execution_count": 10,
   "id": "14bfc2b2",
   "metadata": {},
   "outputs": [
    {
     "data": {
      "text/plain": [
       "All Levels            1932\n",
       "Beginner Level        1271\n",
       "Intermediate Level     421\n",
       "Expert Level            58\n",
       "Name: level, dtype: int64"
      ]
     },
     "execution_count": 10,
     "metadata": {},
     "output_type": "execute_result"
    }
   ],
   "source": [
    "level_distribution = data[\"level\"].value_counts()\n",
    "level_distribution"
   ]
  },
  {
   "cell_type": "code",
   "execution_count": 11,
   "id": "c5faf057",
   "metadata": {},
   "outputs": [
    {
     "data": {
      "text/plain": [
       "Text(0.5, 1.0, 'Distribution of courses based on the difficulty level')"
      ]
     },
     "execution_count": 11,
     "metadata": {},
     "output_type": "execute_result"
    },
    {
     "data": {
      "image/png": "[encoded data removed]",
      "text/plain": [
       "<Figure size 1000x600 with 1 Axes>"
      ]
     },
     "metadata": {},
     "output_type": "display_data"
    }
   ],
   "source": [
    "plt.figure(figsize=(10, 6))\n",
    "level_distribution.plot.bar(x=\"Difficulty Level\", y=\"Number of courses\", rot=0)\n",
    "plt.xlabel(\"Difficulty Level\")\n",
    "plt.ylabel(\"Number of Courses\")\n",
    "plt.title(\"Distribution of courses based on the difficulty level\")"
   ]
  },
  {
   "cell_type": "markdown",
   "id": "07253dbe",
   "metadata": {},
   "source": [
    "# 8. Which subject has the most courses in the dataset?"
   ]
  },
  {
   "cell_type": "code",
   "execution_count": 12,
   "id": "1fa10977",
   "metadata": {},
   "outputs": [
    {
     "name": "stdout",
     "output_type": "stream",
     "text": [
      "Web Development        1200\n",
      "Business Finance       1199\n",
      "Musical Instruments     680\n",
      "Graphic Design          603\n",
      "Name: subject, dtype: int64\n",
      "The subject with most courses is:  Web Development\n"
     ]
    }
   ],
   "source": [
    "sub_count = data['subject'].value_counts()\n",
    "print(sub_count)\n",
    "sub = data['subject'].max()\n",
    "print(\"The subject with most courses is: \", sub)"
   ]
  },
  {
   "cell_type": "markdown",
   "id": "960e5583",
   "metadata": {},
   "source": [
    "# 9. What is the earliest and latest published timestamps of the courses?"
   ]
  },
  {
   "cell_type": "code",
   "execution_count": 13,
   "id": "5c6decc1",
   "metadata": {},
   "outputs": [
    {
     "name": "stdout",
     "output_type": "stream",
     "text": [
      "Earliest published timestamp: 2011-07-09 05:43:31+00:00\n",
      "Latest published timestamp: 2017-07-06 21:46:30+00:00\n"
     ]
    }
   ],
   "source": [
    "data['published_timestamp'] = pd.to_datetime(data['published_timestamp'])  # to covert the column to a datetime data type \n",
    "earliest = data['published_timestamp'].min()\n",
    "latest = data['published_timestamp'].max()\n",
    "print(\"Earliest published timestamp:\", earliest)\n",
    "print(\"Latest published timestamp:\", latest)"
   ]
  },
  {
   "cell_type": "markdown",
   "id": "eee5ff14",
   "metadata": {},
   "source": [
    "# 10. Which course has the longest duration?"
   ]
  },
  {
   "cell_type": "code",
   "execution_count": 14,
   "id": "edca3099",
   "metadata": {},
   "outputs": [
    {
     "name": "stdout",
     "output_type": "stream",
     "text": [
      "Courses with longest duration:\n",
      " 75      สร้างงานกราฟฟิคแอพพลิเคชั่นมือถือด้วย Adobe Il...\n",
      "154                                  Adobe Illustrator CC\n",
      "187     Adobe Suite : Unleash your creativity & benefi...\n",
      "279          Angular 2 Master Class with Alejandro Rangel\n",
      "281     Angular 2 with TypeScript for Beginners: The P...\n",
      "619     Build Enterprise Applications with Angular 2 (...\n",
      "818     Complete Trading Plan Course for Stocks & Fore...\n",
      "1749    HTML5 And CSS3 - Build Modern Responsive Websites\n",
      "2209    Learn How To Successfully Trade Stocks: In 5 S...\n",
      "2248    Learn Laravel PHP Framework Building Multi Use...\n",
      "2300    Learn React : The World's Most Lucrative JavaS...\n",
      "2442                                    Learning Drupal 8\n",
      "2445    Learning JavaScript Programming Tutorial. A De...\n",
      "2839    Play Guitar and Understand Music Quick & Easy ...\n",
      "3300                   The Complete Motion Graphic Course\n",
      "3362                  The Professional Guitar Masterclass\n",
      "Name: course_title, dtype: object\n",
      "Duration:  9.5  \n"
     ]
    }
   ],
   "source": [
    "longest_duration = data[data[\"content_duration\"] == data[\"content_duration\"].max()]\n",
    "print(\"Courses with longest duration:\\n\",longest_duration['course_title'])\n",
    "print(\"Duration: \", data[\"content_duration\"].max())"
   ]
  },
  {
   "cell_type": "markdown",
   "id": "d1206d44",
   "metadata": {},
   "source": [
    "# 11. Is there any correlation between the number of subscribers and the number of reviews?"
   ]
  },
  {
   "cell_type": "code",
   "execution_count": 15,
   "id": "aa08a855",
   "metadata": {},
   "outputs": [
    {
     "name": "stdout",
     "output_type": "stream",
     "text": [
      "                 course_id   is_paid  num_subscribers  num_reviews  \\\n",
      "course_id         1.000000 -0.013091        -0.168107    -0.058760   \n",
      "is_paid          -0.013091  1.000000        -0.266227    -0.087519   \n",
      "num_subscribers  -0.168107 -0.266227         1.000000     0.649957   \n",
      "num_reviews      -0.058760 -0.087519         0.649957     1.000000   \n",
      "num_lectures     -0.026080  0.112267         0.157929     0.243083   \n",
      "\n",
      "                 num_lectures  \n",
      "course_id           -0.026080  \n",
      "is_paid              0.112267  \n",
      "num_subscribers      0.157929  \n",
      "num_reviews          0.243083  \n",
      "num_lectures         1.000000  \n",
      "Correlation b/w number of subscribers and the number of reviews:  0.65\n"
     ]
    },
    {
     "name": "stderr",
     "output_type": "stream",
     "text": [
      "C:\\Users\\91942\\AppData\\Local\\Temp\\ipykernel_6868\\2877462811.py:2: FutureWarning: The default value of numeric_only in DataFrame.corr is deprecated. In a future version, it will default to False. Select only valid columns or specify the value of numeric_only to silence this warning.\n",
      "  print(data.corr(method = 'pearson'))\n"
     ]
    }
   ],
   "source": [
    "# data[:10]\n",
    "print(data.corr(method = 'pearson'))\n",
    "corr = data['num_subscribers'].corr(data['num_reviews'])\n",
    "print('Correlation b/w number of subscribers and the number of reviews: ', corr.round(2))"
   ]
  },
  {
   "cell_type": "markdown",
   "id": "d0dea16b",
   "metadata": {},
   "source": [
    "# 12. What are the top 5 courses with the highest subscriber-to-review ratio (subscribers/reviews)?"
   ]
  },
  {
   "cell_type": "code",
   "execution_count": 16,
   "id": "b487cc81",
   "metadata": {},
   "outputs": [
    {
     "name": "stdout",
     "output_type": "stream",
     "text": [
      "Top 5 Course details with highest subscriber-to-review ratio:\n"
     ]
    },
    {
     "data": {
      "text/html": [
       "<div>\n",
       "<style scoped>\n",
       "    .dataframe tbody tr th:only-of-type {\n",
       "        vertical-align: middle;\n",
       "    }\n",
       "\n",
       "    .dataframe tbody tr th {\n",
       "        vertical-align: top;\n",
       "    }\n",
       "\n",
       "    .dataframe thead th {\n",
       "        text-align: right;\n",
       "    }\n",
       "</style>\n",
       "<table border=\"1\" class=\"dataframe\">\n",
       "  <thead>\n",
       "    <tr style=\"text-align: right;\">\n",
       "      <th></th>\n",
       "      <th>course_id</th>\n",
       "      <th>course_title</th>\n",
       "      <th>is_paid</th>\n",
       "      <th>price</th>\n",
       "      <th>num_subscribers</th>\n",
       "      <th>num_reviews</th>\n",
       "      <th>num_lectures</th>\n",
       "      <th>level</th>\n",
       "      <th>content_duration</th>\n",
       "      <th>published_timestamp</th>\n",
       "      <th>subject</th>\n",
       "      <th>ratio</th>\n",
       "    </tr>\n",
       "  </thead>\n",
       "  <tbody>\n",
       "    <tr>\n",
       "      <th>3105</th>\n",
       "      <td>399170</td>\n",
       "      <td>Small Business Owners: Drive a Productive Busi...</td>\n",
       "      <td>True</td>\n",
       "      <td>20</td>\n",
       "      <td>5099</td>\n",
       "      <td>2</td>\n",
       "      <td>15</td>\n",
       "      <td>Beginner Level</td>\n",
       "      <td>3</td>\n",
       "      <td>2015-01-20 21:39:42+00:00</td>\n",
       "      <td>Business Finance</td>\n",
       "      <td>2549.5</td>\n",
       "    </tr>\n",
       "    <tr>\n",
       "      <th>1</th>\n",
       "      <td>1170074</td>\n",
       "      <td>#10 Hand Coordination - Transfer Chord Ballad ...</td>\n",
       "      <td>True</td>\n",
       "      <td>75</td>\n",
       "      <td>1593</td>\n",
       "      <td>1</td>\n",
       "      <td>41</td>\n",
       "      <td>Intermediate Level</td>\n",
       "      <td>1</td>\n",
       "      <td>2017-04-12 19:06:34+00:00</td>\n",
       "      <td>Musical Instruments</td>\n",
       "      <td>1593.0</td>\n",
       "    </tr>\n",
       "    <tr>\n",
       "      <th>2454</th>\n",
       "      <td>537884</td>\n",
       "      <td>Leasing - A Comprehensive Study (Professional ...</td>\n",
       "      <td>True</td>\n",
       "      <td>20</td>\n",
       "      <td>3094</td>\n",
       "      <td>2</td>\n",
       "      <td>22</td>\n",
       "      <td>All Levels</td>\n",
       "      <td>3.5</td>\n",
       "      <td>2015-07-17 22:10:39+00:00</td>\n",
       "      <td>Business Finance</td>\n",
       "      <td>1547.0</td>\n",
       "    </tr>\n",
       "    <tr>\n",
       "      <th>861</th>\n",
       "      <td>479688</td>\n",
       "      <td>Cost Accounting Labour Costing (Professional C...</td>\n",
       "      <td>True</td>\n",
       "      <td>20</td>\n",
       "      <td>1542</td>\n",
       "      <td>1</td>\n",
       "      <td>24</td>\n",
       "      <td>All Levels</td>\n",
       "      <td>2</td>\n",
       "      <td>2015-04-20 18:33:40+00:00</td>\n",
       "      <td>Business Finance</td>\n",
       "      <td>1542.0</td>\n",
       "    </tr>\n",
       "    <tr>\n",
       "      <th>2877</th>\n",
       "      <td>959144</td>\n",
       "      <td>Practical Accounts APP Overview</td>\n",
       "      <td>True</td>\n",
       "      <td>20</td>\n",
       "      <td>1361</td>\n",
       "      <td>1</td>\n",
       "      <td>14</td>\n",
       "      <td>Intermediate Level</td>\n",
       "      <td>3</td>\n",
       "      <td>2016-10-04 23:38:32+00:00</td>\n",
       "      <td>Business Finance</td>\n",
       "      <td>1361.0</td>\n",
       "    </tr>\n",
       "  </tbody>\n",
       "</table>\n",
       "</div>"
      ],
      "text/plain": [
       "      course_id                                       course_title  is_paid  \\\n",
       "3105     399170  Small Business Owners: Drive a Productive Busi...     True   \n",
       "1       1170074  #10 Hand Coordination - Transfer Chord Ballad ...     True   \n",
       "2454     537884  Leasing - A Comprehensive Study (Professional ...     True   \n",
       "861      479688  Cost Accounting Labour Costing (Professional C...     True   \n",
       "2877     959144                    Practical Accounts APP Overview     True   \n",
       "\n",
       "     price  num_subscribers  num_reviews  num_lectures               level  \\\n",
       "3105    20             5099            2            15      Beginner Level   \n",
       "1       75             1593            1            41  Intermediate Level   \n",
       "2454    20             3094            2            22          All Levels   \n",
       "861     20             1542            1            24          All Levels   \n",
       "2877    20             1361            1            14  Intermediate Level   \n",
       "\n",
       "     content_duration       published_timestamp              subject   ratio  \n",
       "3105              3   2015-01-20 21:39:42+00:00     Business Finance  2549.5  \n",
       "1                  1  2017-04-12 19:06:34+00:00  Musical Instruments  1593.0  \n",
       "2454            3.5   2015-07-17 22:10:39+00:00     Business Finance  1547.0  \n",
       "861               2   2015-04-20 18:33:40+00:00     Business Finance  1542.0  \n",
       "2877              3   2016-10-04 23:38:32+00:00     Business Finance  1361.0  "
      ]
     },
     "execution_count": 16,
     "metadata": {},
     "output_type": "execute_result"
    }
   ],
   "source": [
    "data['ratio'] = data['num_subscribers']/data['num_reviews']\n",
    "with pd.option_context('mode.use_inf_as_null', True):             # For moving Inf and NAN values at last\n",
    "    data = data.sort_values(by=['ratio'] , ascending=False, na_position='last')\n",
    "print(\"Top 5 Course details with highest subscriber-to-review ratio:\")\n",
    "data.head()"
   ]
  },
  {
   "cell_type": "markdown",
   "id": "5d1df6dd",
   "metadata": {},
   "source": [
    "# 13. How many courses have more than 100,000 subscribers?"
   ]
  },
  {
   "cell_type": "code",
   "execution_count": 17,
   "id": "1f458e15",
   "metadata": {},
   "outputs": [
    {
     "name": "stdout",
     "output_type": "stream",
     "text": [
      "Number of courses having more than 100,000 subscribers:  6\n"
     ]
    },
    {
     "data": {
      "text/html": [
       "<div>\n",
       "<style scoped>\n",
       "    .dataframe tbody tr th:only-of-type {\n",
       "        vertical-align: middle;\n",
       "    }\n",
       "\n",
       "    .dataframe tbody tr th {\n",
       "        vertical-align: top;\n",
       "    }\n",
       "\n",
       "    .dataframe thead th {\n",
       "        text-align: right;\n",
       "    }\n",
       "</style>\n",
       "<table border=\"1\" class=\"dataframe\">\n",
       "  <thead>\n",
       "    <tr style=\"text-align: right;\">\n",
       "      <th></th>\n",
       "      <th>course_id</th>\n",
       "      <th>course_title</th>\n",
       "      <th>is_paid</th>\n",
       "      <th>price</th>\n",
       "      <th>num_subscribers</th>\n",
       "      <th>num_reviews</th>\n",
       "      <th>num_lectures</th>\n",
       "      <th>level</th>\n",
       "      <th>content_duration</th>\n",
       "      <th>published_timestamp</th>\n",
       "      <th>subject</th>\n",
       "      <th>ratio</th>\n",
       "    </tr>\n",
       "  </thead>\n",
       "  <tbody>\n",
       "    <tr>\n",
       "      <th>776</th>\n",
       "      <td>59014</td>\n",
       "      <td>Coding for Entrepreneurs Basic</td>\n",
       "      <td>False</td>\n",
       "      <td>Free</td>\n",
       "      <td>161029</td>\n",
       "      <td>279</td>\n",
       "      <td>27</td>\n",
       "      <td>Beginner Level</td>\n",
       "      <td>3.5</td>\n",
       "      <td>2013-06-09 15:51:55+00:00</td>\n",
       "      <td>Web Development</td>\n",
       "      <td>577.164875</td>\n",
       "    </tr>\n",
       "    <tr>\n",
       "      <th>1388</th>\n",
       "      <td>19421</td>\n",
       "      <td>Free Beginner Electric Guitar Lessons</td>\n",
       "      <td>False</td>\n",
       "      <td>Free</td>\n",
       "      <td>101154</td>\n",
       "      <td>1042</td>\n",
       "      <td>95</td>\n",
       "      <td>Beginner Level</td>\n",
       "      <td>4.5</td>\n",
       "      <td>2012-06-15 17:00:33+00:00</td>\n",
       "      <td>Musical Instruments</td>\n",
       "      <td>97.076775</td>\n",
       "    </tr>\n",
       "    <tr>\n",
       "      <th>2230</th>\n",
       "      <td>41295</td>\n",
       "      <td>Learn HTML5 Programming From Scratch</td>\n",
       "      <td>False</td>\n",
       "      <td>Free</td>\n",
       "      <td>268923</td>\n",
       "      <td>8629</td>\n",
       "      <td>45</td>\n",
       "      <td>All Levels</td>\n",
       "      <td>10.5</td>\n",
       "      <td>2013-02-14 07:03:41+00:00</td>\n",
       "      <td>Web Development</td>\n",
       "      <td>31.165025</td>\n",
       "    </tr>\n",
       "    <tr>\n",
       "      <th>640</th>\n",
       "      <td>173548</td>\n",
       "      <td>Build Your First Website in 1 Week with HTML5 ...</td>\n",
       "      <td>False</td>\n",
       "      <td>Free</td>\n",
       "      <td>120291</td>\n",
       "      <td>5924</td>\n",
       "      <td>30</td>\n",
       "      <td>Beginner Level</td>\n",
       "      <td>3</td>\n",
       "      <td>2014-04-08 16:21:30+00:00</td>\n",
       "      <td>Web Development</td>\n",
       "      <td>20.305706</td>\n",
       "    </tr>\n",
       "    <tr>\n",
       "      <th>3316</th>\n",
       "      <td>764164</td>\n",
       "      <td>The Complete Web Developer Course 2.0</td>\n",
       "      <td>True</td>\n",
       "      <td>200</td>\n",
       "      <td>114512</td>\n",
       "      <td>22412</td>\n",
       "      <td>304</td>\n",
       "      <td>All Levels</td>\n",
       "      <td>30.5</td>\n",
       "      <td>2016-03-08 22:28:36+00:00</td>\n",
       "      <td>Web Development</td>\n",
       "      <td>5.109406</td>\n",
       "    </tr>\n",
       "    <tr>\n",
       "      <th>3385</th>\n",
       "      <td>625204</td>\n",
       "      <td>The Web Developer Bootcamp</td>\n",
       "      <td>True</td>\n",
       "      <td>200</td>\n",
       "      <td>121584</td>\n",
       "      <td>27445</td>\n",
       "      <td>342</td>\n",
       "      <td>All Levels</td>\n",
       "      <td>43</td>\n",
       "      <td>2015-11-02 21:13:27+00:00</td>\n",
       "      <td>Web Development</td>\n",
       "      <td>4.430097</td>\n",
       "    </tr>\n",
       "  </tbody>\n",
       "</table>\n",
       "</div>"
      ],
      "text/plain": [
       "      course_id                                       course_title  is_paid  \\\n",
       "776       59014                     Coding for Entrepreneurs Basic    False   \n",
       "1388      19421              Free Beginner Electric Guitar Lessons    False   \n",
       "2230      41295               Learn HTML5 Programming From Scratch    False   \n",
       "640      173548  Build Your First Website in 1 Week with HTML5 ...    False   \n",
       "3316     764164              The Complete Web Developer Course 2.0     True   \n",
       "3385     625204                         The Web Developer Bootcamp     True   \n",
       "\n",
       "     price  num_subscribers  num_reviews  num_lectures           level  \\\n",
       "776   Free           161029          279            27  Beginner Level   \n",
       "1388  Free           101154         1042            95  Beginner Level   \n",
       "2230  Free           268923         8629            45      All Levels   \n",
       "640   Free           120291         5924            30  Beginner Level   \n",
       "3316   200           114512        22412           304      All Levels   \n",
       "3385   200           121584        27445           342      All Levels   \n",
       "\n",
       "     content_duration       published_timestamp              subject  \\\n",
       "776             3.5   2013-06-09 15:51:55+00:00      Web Development   \n",
       "1388            4.5   2012-06-15 17:00:33+00:00  Musical Instruments   \n",
       "2230           10.5   2013-02-14 07:03:41+00:00      Web Development   \n",
       "640               3   2014-04-08 16:21:30+00:00      Web Development   \n",
       "3316           30.5   2016-03-08 22:28:36+00:00      Web Development   \n",
       "3385             43   2015-11-02 21:13:27+00:00      Web Development   \n",
       "\n",
       "           ratio  \n",
       "776   577.164875  \n",
       "1388   97.076775  \n",
       "2230   31.165025  \n",
       "640    20.305706  \n",
       "3316    5.109406  \n",
       "3385    4.430097  "
      ]
     },
     "execution_count": 17,
     "metadata": {},
     "output_type": "execute_result"
    }
   ],
   "source": [
    "high = data[data['num_subscribers'] >= 100000]\n",
    "print(\"Number of courses having more than 100,000 subscribers: \", high.shape[0])\n",
    "high\n"
   ]
  },
  {
   "cell_type": "markdown",
   "id": "d6a409ea",
   "metadata": {},
   "source": [
    "# 14. What is the average number of lectures for courses in each subject?"
   ]
  },
  {
   "cell_type": "code",
   "execution_count": 18,
   "id": "04147daf",
   "metadata": {},
   "outputs": [
    {
     "name": "stdout",
     "output_type": "stream",
     "text": [
      "subject\n",
      "Business Finance       32.0\n",
      "Graphic Design         32.0\n",
      "Musical Instruments    38.0\n",
      "Web Development        53.0\n",
      "Name: num_lectures, dtype: float64\n"
     ]
    }
   ],
   "source": [
    "avg_num_lect = data.groupby('subject')['num_lectures'].mean()\n",
    "print(avg_num_lect.round(0))\n"
   ]
  },
  {
   "cell_type": "markdown",
   "id": "ee1f3773",
   "metadata": {},
   "source": [
    "# 15. How many courses were published in each year based on the published_timestamp column?"
   ]
  },
  {
   "cell_type": "code",
   "execution_count": 19,
   "id": "d20b2163",
   "metadata": {},
   "outputs": [
    {
     "data": {
      "text/plain": [
       "2011       5\n",
       "2012      45\n",
       "2013     202\n",
       "2014     491\n",
       "2015    1014\n",
       "2016    1206\n",
       "2017     719\n",
       "Name: published_timestamp, dtype: int64"
      ]
     },
     "execution_count": 19,
     "metadata": {},
     "output_type": "execute_result"
    }
   ],
   "source": [
    "data[\"published_timestamp\"] = pd.to_datetime(data[\"published_timestamp\"])    # # to covert the column to a datetime data type \n",
    "courses_published_per_year = data[\"published_timestamp\"].dt.year.value_counts().sort_index()\n",
    "courses_published_per_year"
   ]
  },
  {
   "cell_type": "code",
   "execution_count": 20,
   "id": "78739048",
   "metadata": {
    "scrolled": false
   },
   "outputs": [
    {
     "data": {
      "text/plain": [
       "Text(0.5, 1.0, 'Number of Courses Published per Year')"
      ]
     },
     "execution_count": 20,
     "metadata": {},
     "output_type": "execute_result"
    },
    {
     "data": {
      "image/png": "[encoded data removed]",
      "text/plain": [
       "<Figure size 1200x600 with 1 Axes>"
      ]
     },
     "metadata": {},
     "output_type": "display_data"
    }
   ],
   "source": [
    "plt.figure(figsize=(12, 6))\n",
    "sns.lineplot(x=courses_published_per_year.index, y=courses_published_per_year.values)\n",
    "courses_published_per_year.plot.line()\n",
    "plt.xlabel(\"Year\")\n",
    "plt.ylabel(\"Number of Courses Published\")\n",
    "plt.title(\"Number of Courses Published per Year\")\n"
   ]
  },
  {
   "cell_type": "code",
   "execution_count": null,
   "id": "7186bf50",
   "metadata": {},
   "outputs": [],
   "source": []
  }
 ],
 "metadata": {
  "kernelspec": {
   "display_name": "Python 3 (ipykernel)",
   "language": "python",
   "name": "python3"
  },
  "language_info": {
   "codemirror_mode": {
    "name": "ipython",
    "version": 3
   },
   "file_extension": ".py",
   "mimetype": "text/x-python",
   "name": "python",
   "nbconvert_exporter": "python",
   "pygments_lexer": "ipython3",
   "version": "3.10.5"
  }
 },
 "nbformat": 4,
 "nbformat_minor": 5
}
